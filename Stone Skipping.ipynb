{
 "cells": [
  {
   "cell_type": "markdown",
   "metadata": {},
   "source": [
    "# Stone Skipping"
   ]
  },
  {
   "cell_type": "markdown",
   "metadata": {},
   "source": [
    "## Environment and meter lines"
   ]
  },
  {
   "cell_type": "markdown",
   "metadata": {},
   "source": [
    "We set up the enviroment which includes scene, air and water. And we create Meter lines in order to know how far the stone has gone through."
   ]
  },
  {
   "cell_type": "code",
   "execution_count": null,
   "metadata": {
    "collapsed": true
   },
   "outputs": [],
   "source": [
    "from vpython import *\n",
    "from random import random\n",
    "import numpy as np \n",
    "\n",
    "# Set up the environment\n",
    "scene = canvas(width=900,height=300,range=4)\n",
    "air = box(pos=vector(30,15,0),length=630,height=30,width=1,\n",
    "            color=color.black,opacity = 0)\n",
    "water = box(pos=vector(30,-15,0),length=630,height=30,width=1,\n",
    "            color=color.blue,opacity = 0.5)\n",
    "g = graph(width=scene.width-50,height=300,xmin=0,xmax=30,ymin=0,ymax=1,\n",
    "          ytitle='Distance Between Two Collisions',xtitle='Number of Bounces',\n",
    "          background=color.white, foreground=color.black)\n",
    "gc = gcurve(graph=g,color=color.red)\n",
    "\n",
    "# Adjust the display\n",
    "scene.center = vector(10,1.5,0)\n",
    "scene.autoscale = False\n",
    "scene.userzoom = False          \n",
    "scene.userspin = False\n",
    "\n",
    "# Meter lines\n",
    "for i in range(10):\n",
    "    number = str(10*i)\n",
    "    number = number + \"m\"\n",
    "    number_text = text(text=number, pos=vector(10*i-0.5,3.5,0), depth=-0.01, color=color.yellow, height=0.5)\n",
    "    number_line_long = box(pos=vector(10*i,0.25,0), length=0.1,height=6, width=0.001, color=color.yellow)\n",
    "    number_line_short = box(pos=vector(10*i-5,-0.5,0), length=0.1,height=5, width=0.001, color=color.yellow)"
   ]
  },
  {
   "cell_type": "markdown",
   "metadata": {},
   "source": [
    "## General constants "
   ]
  },
  {
   "cell_type": "markdown",
   "metadata": {},
   "source": [
    "There are some constants refer to gravity, dragging and so on.\n",
    "1. g = 9.8\n",
    "2. Vx_max and Spin_max are the max speed of stone in world record.\n",
    "3. MaxCd and MinCd are the maximum and minimum drag coefficient for the stone in different direction."
   ]
  },
  {
   "cell_type": "code",
   "execution_count": null,
   "metadata": {
    "collapsed": true
   },
   "outputs": [],
   "source": [
    "# Constants and data\n",
    "g = 9.8\n",
    "scale = 4 # To make stone and its motion visible\n",
    "Vx_max = 12 # Max incident velocity\n",
    "Spin_max = 14 # Max spin velocity\n",
    "\n",
    "# The constants of dragging function used for the shape factor\n",
    "MaxCd = 1.98\n",
    "MinCd = 0.05\n",
    "gap = MaxCd - MinCd\n",
    "\n",
    "## Direction vector\n",
    "horizontal = vec(1.0,0,0)"
   ]
  },
  {
   "cell_type": "markdown",
   "metadata": {},
   "source": [
    "## Specific constants of fluid"
   ]
  },
  {
   "cell_type": "markdown",
   "metadata": {},
   "source": [
    "In this cell, there are some constants refer to the density, Viscosity, opacity and color of different fluid."
   ]
  },
  {
   "cell_type": "code",
   "execution_count": null,
   "metadata": {
    "collapsed": true
   },
   "outputs": [],
   "source": [
    "Rho = {\n",
    "# Upper fluid's rho\n",
    "'air': 1.29, 'olive oil': 910.0,\n",
    "# Lower fluid's rho\n",
    "'water': 1000.0, 'gasoline': 720.0,  'wine': 789.0, 'benzene': 876.0\n",
    "}\n",
    "\n",
    "Viscosity = {\n",
    "# Upper fluid's viscosity\n",
    "'air': 1.78E-05, 'olive oil': 8.10E-02,\n",
    "# Lower fluid's viscosity\n",
    "'water': 1.00E-03,  'gasoline':6.50E-04, 'wine': 1.19E-03, 'benzene': 6.52E-04\n",
    "}\n",
    "\n",
    "# Upper fluid's opacity\n",
    "Fluid_Opacity={'air':0,'gasoline':0.1,'olive oil':0.3,'wine':0.3,'benzene':0.1}\n",
    "\n",
    "Fluid_Color = {\n",
    "# Upper fluid's color\n",
    "'air': color.black, 'olive oil': color.yellow,\n",
    "\n",
    "# Lower fluid's color\n",
    "'water': color.blue, 'gasoline': color.cyan, 'wine': color.red, 'benzene': color.white\n",
    "}"
   ]
  },
  {
   "cell_type": "markdown",
   "metadata": {},
   "source": [
    "## Create a stone"
   ]
  },
  {
   "cell_type": "markdown",
   "metadata": {},
   "source": [
    "Let's create a stone now!!\n",
    "We assume that the stone is a flat cylinder been thrown out in a small angle relative to the horizontal direction.\n",
    "Moreover, we set the spin velocity at 7 rev/s and velocity at (6,0,0) m/s in the beginning."
   ]
  },
  {
   "cell_type": "code",
   "execution_count": null,
   "metadata": {
    "collapsed": true
   },
   "outputs": [],
   "source": [
    "# Stone's characteristic\n",
    "Stone = {}\n",
    "Stone['skip'] = True                # Succeed skipping or not\n",
    "Stone['mass'] = 0.1\n",
    "Stone['radius'] =  0.05\n",
    "Stone['position'] = vec(0, 0.5, 0)  # Average height a human throws a stone\n",
    "Stone['velocity'] = vec(6.0, 0, 0)  # Incident velocity  \n",
    "Stone['spin'] = 7                   # Spin angular velocity (rev/s) \n",
    "Stone['theta'] = 10 / 180 * pi      # Tilt angle (radian)\n",
    "\n",
    "Real_Stone = cylinder(pos=Stone['position'],radius=scale*Stone['radius'],\n",
    "                      axis=scale*vec(-0.02*sin(Stone['theta']),0.02*cos(Stone['theta']),0),\n",
    "                      color=color.gray(0.7))"
   ]
  },
  {
   "cell_type": "markdown",
   "metadata": {},
   "source": [
    "## Splash"
   ]
  },
  {
   "cell_type": "markdown",
   "metadata": {},
   "source": [
    "To make the simulation much closer to the reality, we add the animation of splash in to our project. \n",
    "1. We use ten balls to represent them as our splash.\n",
    "2. We set the direction and speed of the small balls in random.\n",
    "3. By the way, the splash is bigger in front in the real world, so we make the speed of the ball in front larger."
   ]
  },
  {
   "cell_type": "code",
   "execution_count": null,
   "metadata": {
    "collapsed": true
   },
   "outputs": [],
   "source": [
    "# Splash\n",
    "ball = []\n",
    "splash_theta = []\n",
    "splash_v = []\n",
    "fraction_V = scale * ((mag(Stone['velocity']) / Vx_max) ** 2)\n",
    "\n",
    "for i in range(10):\n",
    "    ball.append(sphere(pos=vector(-3,0,0),radius=0.04,color=water.color))\n",
    "\n",
    "for i in range(10):\n",
    "    splash_theta[i] = random() * pi * 5 / 18 + pi / 9\n",
    "    if i < 3:\n",
    "        splash_v[i] = fraction_V*random()*vector(-cos(splash_theta[i]),sin(splash_theta[i]),0)\n",
    "    else:\n",
    "        splash_v[i] = fraction_V*random()*vector(cos(splash_theta[i])+fraction_V,sin(splash_theta[i]),0)\n",
    "    \n",
    "def Splash(Stone, collision):\n",
    "    global ball ,splash_theta, splash_v, fraction_V, dt  \n",
    "    if collision:\n",
    "        # Set splashes' position\n",
    "        for i in range(10):\n",
    "            ball[i].pos = Stone['position']\n",
    "            if i < 3:\n",
    "                ball[i].pos.x = ball[i].pos.x - scale * Stone['radius']\n",
    "            else:\n",
    "                ball[i].pos.x = ball[i].pos.x + scale * Stone['radius']\n",
    "        # Set splashes' veloicty      \n",
    "        for i in range(10):\n",
    "            splash_theta[i] = random() * pi * 5 / 18 + pi / 9\n",
    "            if i < 3:\n",
    "                splash_v[i] = fraction_V*random()*vector(-cos(splash_theta[i]),sin(splash_theta[i]),0)\n",
    "            else:\n",
    "                splash_v[i] = fraction_V*random()*vector(cos(splash_theta[i])+fraction_V,sin(splash_theta[i]),0) \n",
    "    else:\n",
    "        # Splashes' motion in the air\n",
    "        for i in range(10):\n",
    "            ball[i].pos = ball[i].pos + splash_v[i]*dt + g*vector(0,-1,0)*(dt**2)/2"
   ]
  },
  {
   "cell_type": "markdown",
   "metadata": {},
   "source": [
    "## Collision"
   ]
  },
  {
   "cell_type": "markdown",
   "metadata": {},
   "source": [
    "1. In the linear collision, we use the formula in the reference to calculate the loss of the stone's energy in the x component, and check the rest energy of the stone. The formula is related to the density and the viscosity of lower fluid,etc.\n",
    "2. In the circular collision, we use the formula in the reference to calculate the maximun number of bounces, which stone will be stable below. If the bouncing number is larger than the maximun number of bounces, the stone will become unstable and cannot skip successfully.\n",
    "3. To explain the second point, we quote from the reference.\n",
    " If after a collision, the stone is put in rotation around the y axis,that is,theta is not equal to 0, its orientation would change by an appreciable amount during free flight: the incidence angle thata for the next collision has little chance to still be in a favorable situation. There is therefore a need for a stabilizing angular motion. This is the role of the spin of the stone.\n",
    " A spin motion around normal vector of stone induces a stabilizing torque: this is the well-known gyroscopic effect. Spin motion induces a stabilizing torque that can maintain theta around its initial value.\""
   ]
  },
  {
   "cell_type": "code",
   "execution_count": null,
   "metadata": {
    "collapsed": true
   },
   "outputs": [],
   "source": [
    "def Collision(Stone,media):\n",
    "    Linear_Collision(Stone,media)\n",
    "    Circular_Collision(Stone)\n",
    "    \n",
    "def Linear_Collision(Stone,media): \n",
    "    # Define \n",
    "    pw = Rho[media]                             # density of the substance \n",
    "    Cl = Rho['water']/Rho[media]                # coefficient of lift  \n",
    "    Cf = Viscosity[media]/Viscosity['water']    # coefficient of friction \n",
    "    \n",
    "    Cy = Cl*cos(Stone['theta'])-Cf*sin(Stone['theta']) \n",
    "    Cx = Cl*sin(Stone['theta'])+Cf*cos(Stone['theta']) \n",
    "    u = Cx/Cy # u = Fx/Fy \n",
    "    \n",
    "    if Cy <= 0:\n",
    "        Stone['skip'] = False\n",
    "        Stone['velocity'].y = -Stone['velocity'].y\n",
    "        return\n",
    "    \n",
    "    # L is the distance along x traversed by the stone during the collision.\n",
    "    l = 2*pi*sqrt(2*Stone['mass']*sin(Stone['theta'])/(2*Cy*pw*Stone['radius']))\n",
    "    \n",
    "    # Calculate the waste of energy during a collision process.\n",
    "    energy_waste_x = -u*Stone['mass']*g*l\n",
    "    initial_Energy_x = Stone['mass']*Stone['velocity'].x*Stone['velocity'].x/2\n",
    "    final_Energy_x = initial_Energy_x + energy_waste_x\n",
    "    \n",
    "    # Asumed that every stone will bounce back into the air\n",
    "    Stone['velocity'].y = -Stone['velocity'].y\n",
    "    \n",
    "    # Estimate that whether the stone will skip or not  \n",
    "    if final_Energy_x <= 0:\n",
    "        Stone['skip'] = False\n",
    "        Stone['velocity'].x = 1e-10\n",
    "    else:\n",
    "        Stone['velocity'].x = sqrt(2*final_Energy_x/Stone['mass'])\n",
    "    \n",
    "def Circular_Collision(Stone):\n",
    "    # Calculate the maximun number of bounces, which stone will be stable below.\n",
    "    ncount = (4*pi*pi*Stone['radius'])*Stone['spin']*Stone['spin']/g\n",
    "    if N+1 >= ncount:\n",
    "        Stone['skip'] = False"
   ]
  },
  {
   "cell_type": "markdown",
   "metadata": {},
   "source": [
    "## Upper fluid resistance"
   ]
  },
  {
   "cell_type": "markdown",
   "metadata": {},
   "source": [
    "In order to the formula F = 1/2(Cd)(Rho)(A)(v^2) to compute the drag force applying on the stone, we need to estimate the drag coefficient first. We know that the drag coefficient is related to the Reynolds number and stone's shape. The Reynolds number can be computed by the density and viscosity of the fluid the stone go thrthough and the stone's velocity. Then, we compute the angle between the +x and the direction of the stone's velocity, and use it to define the shape-related function whose maximum is MaxCd and minimum is MinCd. By the way, when we calculate the Reynolds number and the Area, we use stone's characteristic length,stone's diameter. We can get the magnitude of drag force from the factor above. Finally, we can get drag force in vector form when the magnitude of drag force time negative direction of stone's velocity."
   ]
  },
  {
   "cell_type": "code",
   "execution_count": null,
   "metadata": {
    "collapsed": true
   },
   "outputs": [],
   "source": [
    "def Air_Drag(Stone,media):\n",
    "    global run , N , MaxCd , gap , horizontal\n",
    "    # Compute angle\n",
    "    ## alpha is the angle between the +x vector and the direction vector of stone's velocity\n",
    "    cos_alpha = dot(Stone['velocity'],horizontal)/(mag(Stone['velocity'])*mag(horizontal))\n",
    "    alpha = acos(cos_alpha)\n",
    "    ## beta is the difference between the direction of the stone flying and surface of cylinder (stone)\n",
    "    if Stone['velocity'].y >= 0 :\n",
    "        beta = abs(Stone['theta'] - alpha)\n",
    "    else:\n",
    "        beta = abs(Stone['theta'] + alpha)\n",
    "    \n",
    "    ## Compute characteristic length\n",
    "    d = 2*Stone['radius']\n",
    "    \n",
    "    ## Compute Reynolds number\n",
    "    Kv = Viscosity[media] / Rho[media]\n",
    "    Re = (mag(Stone['velocity'])*d)/Kv\n",
    "    \n",
    "    ## Compute Drag Coefficient\n",
    "    if Re < 5e5:\n",
    "        Cd_ = 1.328 / (Re**0.5)\n",
    "    elif (Re > 5e5) and (Re < 1e7):\n",
    "        Cd_ = 0.0742/(Re**0.2) - 1740/Re\n",
    "    elif (Re > 1e7) and (Re < 1e9):\n",
    "        Cd_ = 0.455/((log10(Re))**2.58) - 1700/Re\n",
    "    Cd = Cd_ * (MaxCd - abs(cos(beta))*gap)\n",
    "    \n",
    "    ## Compute reference area\n",
    "    A = Stone['radius']*Stone['radius']*pi*sin(beta)\n",
    "    \n",
    "    ## Compute Drag Force\n",
    "    Fd = (Rho[media]*A*Cd*mag(Stone['velocity'])*mag(Stone['velocity']))/2  # Magnitude of drag force\n",
    "    Fdir = -(Stone['velocity']/mag(Stone['velocity']))  # Unit vector of drag force\n",
    "    Fdrag = Fd * Fdir\n",
    "\n",
    "    return Fdrag"
   ]
  },
  {
   "cell_type": "markdown",
   "metadata": {},
   "source": [
    "## Lower fluid resistance"
   ]
  },
  {
   "cell_type": "markdown",
   "metadata": {},
   "source": [
    "The function is same as upper fluid resistance but for diffrent kind of fluid.\n",
    "In order to the formula F = 1/2(Cd)(Rho)(A)(v^2) to compute the drag force applying on the stone, we need to estimate the drag coefficient first. We know that the drag coefficient is related to the Reynolds number and stone's shape. The Reynolds number can be computed by the density and viscosity of the fluid the stone go thrthough and the stone's velocity. Then, we compute the angle between the +x and the direction of the stone's velocity, and use it to define the shape-related function whose maximum is MaxCd and minimum is MinCd. By the way, when we calculate the Reynolds number and the Area, we use stone's characteristic length,stone's diameter. We can get the magnitude of drag force from the factor above. Finally, we can get drag force in vector form when the magnitude of drag force time negative direction of stone's velocity."
   ]
  },
  {
   "cell_type": "code",
   "execution_count": null,
   "metadata": {
    "collapsed": true
   },
   "outputs": [],
   "source": [
    "def Water_Drag(Stone,media):\n",
    "    global run , N , MaxCd , gap , horizontal\n",
    "    # Compute angle\n",
    "    ## alpha is the angle between the +x vector and the direction vector of stone's velocity\n",
    "    cos_alpha = dot(Stone['velocity'],horizontal)/(mag(Stone['velocity'])*mag(horizontal))\n",
    "    alpha = acos(cos_alpha)\n",
    "    ## beta is the difference between the direction of the stone flying and surface of cylinder (stone)\n",
    "    if Stone['velocity'].y >= 0 :\n",
    "        beta = abs(Stone['theta'] - alpha)\n",
    "    else:\n",
    "        beta = abs(Stone['theta'] + alpha)\n",
    "    \n",
    "    ## Compute characteristic length\n",
    "    d = 2*Stone['radius']\n",
    "    ## Compute Reynolds number\n",
    "    Kv = Viscosity[media] / Rho[media]\n",
    "    Re = (mag(Stone['velocity'])*d)/Kv\n",
    "    \n",
    "    ## Compute Drag Coefficient\n",
    "    if Re < 5e5:\n",
    "        Cd_ = 1.328 / (Re**0.5)\n",
    "    elif (Re > 5e5) and (Re < 1e7):\n",
    "        Cd_ = 0.0742/(Re**0.2) - 1740/Re\n",
    "    elif (Re > 1e7) and (Re < 1e9):\n",
    "        Cd_ = 0.455/((log10(Re))**2.58) - 1700/Re\n",
    "    Cd = Cd_ * (MaxCd - abs(cos(beta))*gap)\n",
    "    \n",
    "    ## Compute reference area\n",
    "    A = Stone['radius']*Stone['radius']*pi*sin(beta)\n",
    "    \n",
    "    ## Compute Drag Force\n",
    "    Fd = (Rho[media]*A*Cd*mag(Stone['velocity'])*mag(Stone['velocity']))/2  # Magnitude of drag force\n",
    "    Fdir = -(Stone['velocity']/mag(Stone['velocity']))  # Unit vector of drag force\n",
    "    Fdrag = Fd * Fdir\n",
    "\n",
    "    return Fdrag"
   ]
  },
  {
   "cell_type": "markdown",
   "metadata": {},
   "source": [
    "## Initial values and reset function "
   ]
  },
  {
   "cell_type": "markdown",
   "metadata": {},
   "source": [
    "1. Given general constants and stone’s initial values above, we calculate the force and the momentum and so on, which will be used in the “calculation loop” below.\n",
    "2. When we push reset buttom, the position, velocity, spin velocity, numbers of bounces will be reset.  "
   ]
  },
  {
   "cell_type": "code",
   "execution_count": null,
   "metadata": {
    "collapsed": true
   },
   "outputs": [],
   "source": [
    "# Initial values\n",
    "Fgrav = Stone['mass'] * g * vec(0, -1, 0)\n",
    "P_Stone = Stone['mass'] * Stone['velocity']\n",
    "pre_P_Stone = P_Stone\n",
    "pre_Stone_y = Real_Stone.pos.y\n",
    "N = 0\n",
    "\n",
    "t = 0\n",
    "dt = 0.01\n",
    "\n",
    "#Reset function\n",
    "def Reset():\n",
    "    global run, Switch, Fgrav, P_Stone, pre_P_Stone, pre_Stone_x, N, t, gc\n",
    "    # Reset position\n",
    "    Stone['position'] = vector(0, 0.5, 0)\n",
    "    Real_Stone.pos = Stone['position']\n",
    "    # Reset incident velocity\n",
    "    Stone['velocity'] = vector(6, 0, 0)\n",
    "    velocity_slider.value = Stone['velocity'].x\n",
    "    # Reset momentum\n",
    "    P_Stone = Stone['mass'] * Stone['velocity']\n",
    "    pre_P_Stone = P_Stone\n",
    "    # Reset spin velocity\n",
    "    Stone['spin'] = 7\n",
    "    spin_slider.value = Stone['spin']\n",
    "    # Reset time dependent values\n",
    "    for i in range(10):\n",
    "        ball[i].pos = vector(-3,0,0)\n",
    "    Stone['skip'] = True\n",
    "    N = 0\n",
    "    t = 0\n",
    "    # Reset scene\n",
    "    scene.center = vector(10,1.5,0)\n",
    "    setmenu.selected = options[0]\n",
    "    # Turn off label\n",
    "    Switch = False\n",
    "    Label(True,False)\n",
    "    # Change color of plot\n",
    "    clr = color.rgb_to_hsv(gc.color)\n",
    "    hue = clr.x\n",
    "    hue = hue + 0.15\n",
    "    if hue > 1:\n",
    "        hue = hue - 1\n",
    "    gc = gcurve(color=color.hsv_to_rgb(vector(hue, 1, 0.8)))\n",
    "    gc.plot(pos=(2,1))"
   ]
  },
  {
   "cell_type": "markdown",
   "metadata": {},
   "source": [
    "## Labels of initial values and scoreboard"
   ]
  },
  {
   "cell_type": "markdown",
   "metadata": {},
   "source": [
    "We create several labels to represent initial conditions including stone's incident velocity , stone's angular velocity , stone's angle comparing to the horizon . We make them maintaining their places on the screen, by renewing the positions of the labels in parallel with the camera. Moreover, we update  score number here."
   ]
  },
  {
   "cell_type": "code",
   "execution_count": null,
   "metadata": {
    "collapsed": true
   },
   "outputs": [],
   "source": [
    "# Initial values' labels\n",
    "Initial_Velocity_label = label(pos=scene.center+vector(-8.2,3.5,0),text='Incident velocity = ',height=18,\n",
    "    color=color.white,box=0,opacity=0,visible=False)\n",
    "Initial_Velocity_label_2 = label(pos=scene.center+vector(-4.9,3.5,0),text=\"{:.3f}\".format(Stone['velocity'].x)+' m/s',height=18,\n",
    "    color=color.white,box=0,opacity=0,visible=False)\n",
    "Initial_Spin_label = label(pos=scene.center+vector(-1.3,3.5,0),text='||    Spin velocity = ',height=18,\n",
    "    color=color.white,box=0,opacity=0,visible=False)\n",
    "Initial_Spin_label_2 = label(pos=scene.center+vector(2.15,3.5,0),text=\"{:.3f}\".format(Stone['spin'])+' rev/s',height=18,\n",
    "    color=color.white,box=0,opacity=0,visible=False)\n",
    "Initial_Theta_label = label(pos=scene.center+vector(5.65,3.5,0),text='||    Tilt angle = ',height=18,\n",
    "    color=color.white,box=0,opacity=0,visible=False)\n",
    "Initial_Theta_label_2 = label(pos=scene.center+vector(8.65,3.5,0),text=\"{:.3f}\".format(Stone['theta'])+' pi rad',height=18,\n",
    "    color=color.white,box=0,opacity=0,visible=False)\n",
    "\n",
    "# Set up scoreboard\n",
    "SkipData = label(pos =(scene.center + vector(11, -3.56, 0)),text =\"0\",height = 25, color = color.red,opacity=0,box=0,visible = False)\n",
    "Scoretext = text(pos =scene.center + vec(7.5,-3.5,0.5),text = 'Score :',height = 0.5,color = color.red,depth = 0.05,visible = False)\n",
    "\n",
    "# Determine whether label is visible or not\n",
    "Switch = False \n",
    "\n",
    "# Switch of Initial values' labels and Score board's text\n",
    "def Label(resetbutton,runbutton):\n",
    "    global Switch, run , N\n",
    "    Initial_Velocity_label.visible = Switch\n",
    "    Initial_Velocity_label_2.visible = Switch\n",
    "    Initial_Spin_label.visible = Switch\n",
    "    Initial_Spin_label_2.visible = Switch\n",
    "    Initial_Theta_label.visible = Switch\n",
    "    Initial_Theta_label_2.visible = Switch\n",
    "    SkipData.visible = Switch\n",
    "    Scoretext.visible = Switch\n",
    "    if (resetbutton == True) or (run == True and Switch == True):\n",
    "        Initial_Velocity_label.pos = scene.center+vector(-8.2,3.5,0)\n",
    "        Initial_Velocity_label_2.pos = scene.center+vector(-4.9,3.5,0)\n",
    "        Initial_Spin_label.pos = scene.center+vector(-1.3,3.5,0)\n",
    "        Initial_Spin_label_2.pos = scene.center+vector(2.15,3.5,0)\n",
    "        Initial_Theta_label.pos=scene.center+vector(5.65,3.5,0)\n",
    "        Initial_Theta_label_2.pos = scene.center+vector(8.65,3.5,0)\n",
    "        SkipData.pos = scene.center + vec(11, -3.56, 0)\n",
    "        Scoretext.pos = scene.center + vec(7.5,-3.5,0.5)\n",
    "        SkipData.text = str(N)\n",
    "    if runbutton == True :\n",
    "        Initial_Velocity_label_2.text =\"{:.3f}\".format(Stone['velocity'].x)+' m/s'\n",
    "        Initial_Spin_label_2.text = \"{:.3f}\".format(Stone['spin'])+' rev/s'\n",
    "        Initial_Theta_label_2.text = \"{:.3f}\".format(Stone['theta'])+' pi rad'"
   ]
  },
  {
   "cell_type": "markdown",
   "metadata": {},
   "source": [
    "## Run and reset buttons"
   ]
  },
  {
   "cell_type": "markdown",
   "metadata": {},
   "source": [
    "The simulation runs when the user click run button. At the same time, the word on the run button change from \"run\" to \"pause\". Then, if the \"pause\" is clicked, the stone's motion stop. Besides, there is a reset button. The condition of simulation resets when the button is clicked."
   ]
  },
  {
   "cell_type": "code",
   "execution_count": null,
   "metadata": {
    "collapsed": true
   },
   "outputs": [],
   "source": [
    "# Basic function control Panel\n",
    "# Run button\n",
    "scene.waitfor('textures')\n",
    "\n",
    "run = False\n",
    "\n",
    "def Runbutton(r):\n",
    "    global run, reset, Switch\n",
    "    run = not run\n",
    "    reset = False\n",
    "    if run:\n",
    "        # Turn on label\n",
    "        if not Switch:\n",
    "            Label(False,True)\n",
    "            Switch = True\n",
    "\n",
    "        r.text = \"Pause\"\n",
    "    else:\n",
    "        r.text = \"Run\"\n",
    "\n",
    "runbutton = button(text=\"Run\", bind=Runbutton)\n",
    "\n",
    "scene.append_to_caption('   ')\n",
    "\n",
    "# Reset button\n",
    "reset = True\n",
    "\n",
    "def Resetbutton():\n",
    "    global run, reset\n",
    "    run = False\n",
    "    runbutton.text = \"Run\"\n",
    "    Reset()\n",
    "    reset = True\n",
    "\n",
    "resetbutton = button(bind=Resetbutton, text='Reset')\n",
    "\n",
    "scene.append_to_caption('   ')"
   ]
  },
  {
   "cell_type": "markdown",
   "metadata": {},
   "source": [
    "## Menu and sliders"
   ]
  },
  {
   "cell_type": "markdown",
   "metadata": {},
   "source": [
    "To compare different motions of stone referring to its initial condition, we create a menu and two sliders.\n",
    "1. There are five options in our menu, including smaller tilt angle, larger tilt angle, small incident velocity and large spin velocity, large incident velocity and small spin velocity and world record.\n",
    "2. In addition to the five options above, you can also use the sliders to get the condition you want."
   ]
  },
  {
   "cell_type": "code",
   "execution_count": null,
   "metadata": {
    "collapsed": true
   },
   "outputs": [],
   "source": [
    "# Initial codition menu\n",
    "options = ['Initial condition', 'Case A - smaller tilt angle', 'Case B - larger tilt angle', 'Case C - small incident velocity and large spin velocity','Case D - large incident velocity and small spin velocity' , 'Case E - world record']\n",
    "        \n",
    "def Initial_Condition(Case):\n",
    "    global reset\n",
    "    if not reset: return\n",
    "    if Case.selected == options[0]: return\n",
    "    elif Case.selected == options[1]:   # Case A - smaller tilt angle\n",
    "        Stone['velocity'] = vec(6.0,0,0)\n",
    "        Stone['spin'] = 7\n",
    "        Stone['theta'] = 5/ 180 * pi   \n",
    "        velocity_slider.value = Stone['velocity'].x\n",
    "        spin_slider.value = Stone['spin']\n",
    "        \n",
    "    elif Case.selected == options[2]:   # Case B - larger tilt angle\n",
    "        Stone['velocity'] = vec(6.0,0,0)\n",
    "        Stone['spin'] = 7\n",
    "        Stone['theta'] = 20/ 180 * pi   \n",
    "        velocity_slider.value = Stone['velocity'].x\n",
    "        spin_slider.value = Stone['spin']\n",
    "        \n",
    "    elif Case.selected == options[3]:   # Case C - small incident velocity and large spin velocity\n",
    "        Stone['velocity'] = vec(4.0,0,0)\n",
    "        Stone['spin'] = 10\n",
    "        Stone['theta'] = 10/ 180 * pi   \n",
    "        velocity_slider.value = Stone['velocity'].x\n",
    "        spin_slider.value = Stone['spin']\n",
    "        \n",
    "    elif Case.selected == options[4]:   # Case D - large incident velocity and small spin velocity\n",
    "        Stone['velocity'] = vec(10.0,0,0)\n",
    "        Stone['spin'] = 4\n",
    "        Stone['theta'] = 10/ 180 * pi\n",
    "        velocity_slider.value = Stone['velocity'].x\n",
    "        spin_slider.value = Stone['spin']\n",
    "        \n",
    "    elif Case.selected == options[5]:   # Case E - world record\n",
    "        Stone['velocity'] = vec(12.0,0,0)\n",
    "        Stone['spin'] = 14\n",
    "        Stone['theta'] = 10/ 180 * pi  \n",
    "        velocity_slider.value = Stone['velocity'].x\n",
    "        spin_slider.value = Stone['spin']\n",
    "    \n",
    "    Stone['spin'] = spin_slider.value\n",
    "    Stone['velocity'] = vector(velocity_slider.value, 0, 0)\n",
    "\n",
    "setmenu = menu(choices=options, selected='Initial condition',\n",
    "               bind=Initial_Condition)\n",
    "\n",
    "scene.append_to_caption('   you can only change initial condition when reset')\n",
    "\n",
    "scene.append_to_caption('\\n\\n')\n",
    "\n",
    "# Initial incident velocity slider\n",
    "scene.append_to_caption('Initial incident velocity\\n')\n",
    "    \n",
    "velocity_slider = slider(bind=Initial_Condition,top=5.5,left=3,length=368,\n",
    "    max=12,value=Stone['velocity'].x)\n",
    "\n",
    "scene.append_to_caption('\\n0                                  6')\n",
    "scene.append_to_caption('                                 12   (m/s)\\n')\n",
    "\n",
    "scene.append_to_caption('\\n')\n",
    "\n",
    "# Initial spin velocity slider\n",
    "scene.append_to_caption('Initial spin velocity\\n')\n",
    "\n",
    "    \n",
    "spin_slider= slider(bind=Initial_Condition,top=5.5,left=3,length=368,\n",
    "    value=Stone['spin'],max=14)\n",
    "\n",
    "scene.append_to_caption('\\n0                                  7')\n",
    "scene.append_to_caption('                                 14   (rev/s)\\n')\n",
    "\n",
    "scene.append_to_caption('\\n\\n')"
   ]
  },
  {
   "cell_type": "markdown",
   "metadata": {},
   "source": [
    "## Advance settings"
   ]
  },
  {
   "cell_type": "markdown",
   "metadata": {},
   "source": [
    "Have you ever imagined skipping a stone within different fluid ? Let us make your dream come true!!\n",
    "We offer some special fluid to make this simulation more interesting.\n",
    "1. Upper fluid: air / olive oil\n",
    "2. Lower fluid: water / gasoline / wine / benzene"
   ]
  },
  {
   "cell_type": "code",
   "execution_count": null,
   "metadata": {
    "collapsed": true
   },
   "outputs": [],
   "source": [
    "scene.append_to_caption('---Advance Settings---\\n')\n",
    "\n",
    "# Select upper fluid\n",
    "scene.append_to_caption('Upper fluid : ')\n",
    "\n",
    "# Upper fluid menu\n",
    "upper_fluid = 'air'\n",
    "\n",
    "Upper_fluid_options = ['air', 'olive oil']\n",
    "        \n",
    "def Upper_fluid_menu(Case):\n",
    "    global run, air, upper_fluid\n",
    "    \n",
    "    if run: return\n",
    "    upper_fluid = Case.selected\n",
    "    air.color = Fluid_Color[upper_fluid]\n",
    "    air.opacity = Fluid_Opacity[upper_fluid]\n",
    "    \n",
    "setUpper_fluid = menu(choices=Upper_fluid_options,selected='air',bind=Upper_fluid_menu)\n",
    "\n",
    "scene.append_to_caption('   ')\n",
    "\n",
    "# Select lower fluid\n",
    "scene.append_to_caption('Lower fluid : ')\n",
    "\n",
    "# Lower fluid menu\n",
    "lower_fluid = 'water'\n",
    "\n",
    "Lower_fluid_options = ['water', 'gasoline', 'wine', 'benzene']\n",
    "        \n",
    "def Lower_fluid_menu(Case):\n",
    "    global run, water, lower_fluid, ball\n",
    "    if run: return\n",
    "    lower_fluid = Case.selected\n",
    "    water.color = Fluid_Color[lower_fluid]\n",
    "    for i in range(10):\n",
    "       ball[i].color = water.color\n",
    "\n",
    "setLower_fluid = menu(choices=Lower_fluid_options,selected='water',bind=Lower_fluid_menu)\n",
    "\n",
    "scene.append_to_caption('\\n\\n')"
   ]
  },
  {
   "cell_type": "markdown",
   "metadata": {},
   "source": [
    "## Calculation loop"
   ]
  },
  {
   "cell_type": "markdown",
   "metadata": {},
   "source": [
    "1. We design the double loop in this part. when the variable \"run\" is True, the second loop start running. In the second loop, we show the initial value on the screen, choose the resistant force exerting on the stone and compute the composition of forces. Update stone's position and call the function \"Splash\" and \"Collision\" when the stone touch the lower fluid. When Real_Stone.pos.y >= -4 is not satisfied, the second loop stop running.\n",
    "2. At the same time, we draw a graph. Plot the normalized distance between two successive collisions  X[N]/X[0] as a function of the number of bounces N.  (X[0] is the distance between the first two bounces.)"
   ]
  },
  {
   "cell_type": "code",
   "execution_count": null,
   "metadata": {
    "collapsed": true
   },
   "outputs": [],
   "source": [
    "while True:\n",
    "    rate(50)\n",
    "    if not run: continue\n",
    "    t = 0\n",
    "    \n",
    "    # Stop running motion when stone's height < -4(m)\n",
    "    while Real_Stone.pos.y >= -4:\n",
    "        rate(100)\n",
    "        if not run: continue\n",
    "        \n",
    "        # Show initial values\n",
    "        Label(False,False)\n",
    "        \n",
    "        # Resistant force exerting on the stone\n",
    "        if Real_Stone.pos.y > 0:\n",
    "            Fdrag = Air_Drag(Stone, upper_fluid)\n",
    "        else:\n",
    "            Fdrag = Water_Drag(Stone, lower_fluid)\n",
    "        \n",
    "        Fnet = Fgrav + Fdrag\n",
    "\n",
    "        # Update stone's position\n",
    "        P_Stone = Stone['mass'] * Stone['velocity']  + Fnet * dt\n",
    "        Stone['velocity'] = P_Stone / Stone['mass']\n",
    "        Stone['position'] = Stone['position'] + Stone['velocity'] * dt\n",
    "        Real_Stone.pos = Stone['position']\n",
    "        \n",
    "        # Stone skipping\n",
    "        if pre_Stone_y > 0 and Real_Stone.pos.y <= 0:\n",
    "            Splash(Stone, True) # Set Splash's position\n",
    "            Collision(Stone, lower_fluid)\n",
    "            if Stone['skip'] == False:\n",
    "                Stone['velocity'].y = -Stone['velocity'].y\n",
    "        \n",
    "        # Motion of Splash\n",
    "        Splash(Stone, False)\n",
    "\n",
    "        # Plot the distance between two successive collisions\n",
    "        # as a function of the number of bounces N \n",
    "        if pre_P_Stone.y < 0 and P_Stone.y > 0:\n",
    "            N = N + 1\n",
    "            \n",
    "            if N == 2:\n",
    "                Initial_delta_x = Real_Stone.pos.x - pre_Stone_x\n",
    "            if N >= 2:\n",
    "                gc.plot([N, (Real_Stone.pos.x - pre_Stone_x) / Initial_delta_x])\n",
    "    \n",
    "            pre_Stone_x = Real_Stone.pos.x\n",
    "        \n",
    "        pre_P_Stone = P_Stone\n",
    "        pre_Stone_y = Real_Stone.pos.y\n",
    "        \n",
    "        \n",
    "        if Stone['position'].x > 5:\n",
    "            scene.center.x = scene.center.x + Stone['velocity'].x * dt\n",
    "\n",
    "        t = t + dt\n",
    "        \n",
    "    run = False"
   ]
  }
 ],
 "metadata": {
  "kernelspec": {
   "display_name": "VPython",
   "language": "python",
   "name": "vpython"
  },
  "language_info": {
   "codemirror_mode": {
    "name": "ipython",
    "version": 3
   },
   "file_extension": ".py",
   "mimetype": "text/x-python",
   "name": "python",
   "nbconvert_exporter": "python",
   "pygments_lexer": "ipython3",
   "version": "3.6.3"
  }
 },
 "nbformat": 4,
 "nbformat_minor": 2
}
